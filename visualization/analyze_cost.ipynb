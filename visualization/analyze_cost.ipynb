{
 "cells": [
  {
   "cell_type": "code",
   "execution_count": 198,
   "metadata": {},
   "outputs": [],
   "source": [
    "import os\n",
    "import pandas as pd\n",
    "import ast\n",
    "import matplotlib.pyplot as plt\n",
    "import numpy as np\n",
    "\n",
    "from testing.tpch import setup as tpch_setup\n"
   ]
  },
  {
   "cell_type": "code",
   "execution_count": 199,
   "metadata": {},
   "outputs": [],
   "source": [
    "def load_results_df():\n",
    "    RESULTS_PATH = f\"{os.curdir}/results/single-queries/tpch/2025-03-26-15H/\"\n",
    "    results_df = pd.read_csv(RESULTS_PATH + \"write_times.csv\")\n",
    "\n",
    "    # Clean up any unnamed columns\n",
    "    if \"Unnamed: 0\" in results_df.columns:\n",
    "        results_df = results_df.drop(columns=[\"Unnamed: 0\"])\n",
    "\n",
    "    # Change name of Write time to Write Time\n",
    "    results_df = results_df.rename(columns={\"Write time\": \"Write Time\"})\n",
    "\n",
    "\n",
    "    # Parse previous materializations into list\n",
    "    results_df[\"Materialization\"] = results_df[\"Materialization\"].apply(\n",
    "        lambda x: ast.literal_eval(x) if isinstance(x, str) else []\n",
    "    )\n",
    "\n",
    "    # Parse DB Size into tuple of ints\n",
    "    results_df[\"DB Size\"] = results_df[\"DB Size\"].apply(\n",
    "        lambda x: tuple(map(int, x.strip('()').strip().split(', ')))\n",
    "    )\n",
    "\n",
    "\n",
    "    return results_df\n"
   ]
  },
  {
   "cell_type": "code",
   "execution_count": 200,
   "metadata": {},
   "outputs": [],
   "source": [
    "def add_number_materialized_fields(df):\n",
    "    df[\"N Materialized Fields\"] = df[\"Materialization\"].apply(len)\n",
    "    return df\n",
    "\n",
    "\n"
   ]
  },
  {
   "cell_type": "code",
   "execution_count": 201,
   "metadata": {},
   "outputs": [],
   "source": [
    "def plot_scatter(x, y, title, xlabel, ylabel, colorby=None, cmap='tab20', alpha=0.5, figsize=(12, 8)):\n",
    "    \"\"\"Create a scatter plot with optional color coding\"\"\"\n",
    "    fig = plt.figure(figsize=figsize)\n",
    "\n",
    "    if colorby is not None:\n",
    "        categories = colorby.astype('category').cat.codes\n",
    "        scatter = plt.scatter(x, y, c=categories, alpha=alpha, cmap=cmap)\n",
    "\n",
    "        # Add colorbar\n",
    "        colorbar = plt.colorbar()\n",
    "        colorbar.set_ticks(range(len(colorby.unique())))\n",
    "        colorbar.set_ticklabels(sorted(colorby.unique()))\n",
    "    else:\n",
    "        scatter = plt.scatter(x, y, alpha=alpha)\n",
    "\n",
    "    # Add labels and title\n",
    "    plt.xlabel(xlabel)\n",
    "    plt.ylabel(ylabel)\n",
    "    plt.title(title)\n",
    "\n",
    "    # Add grid\n",
    "    plt.grid(True, linestyle='--', alpha=0.7)\n",
    "\n",
    "    # Adjust layout\n",
    "    plt.tight_layout()\n",
    "\n",
    "    return fig, plt.gca()"
   ]
  },
  {
   "cell_type": "markdown",
   "metadata": {},
   "source": [
    "# Main"
   ]
  },
  {
   "cell_type": "code",
   "execution_count": null,
   "metadata": {},
   "outputs": [],
   "source": [
    "results_df = load_results_df()\n",
    "results_df = add_number_materialized_fields(results_df)\n",
    "\n",
    "results_df"
   ]
  },
  {
   "cell_type": "code",
   "execution_count": null,
   "metadata": {},
   "outputs": [],
   "source": [
    "\n",
    "fig, ax = plot_scatter(\n",
    "    results_df[\"N Materialized Fields\"],\n",
    "    results_df[\"Materialization Time\"],\n",
    "    \"Mat time / N mat fields\",\n",
    "    \"N mat fields\",\n",
    "    \"Mat time\"\n",
    ")"
   ]
  },
  {
   "cell_type": "code",
   "execution_count": null,
   "metadata": {},
   "outputs": [],
   "source": [
    "fig, ax = plot_scatter(\n",
    "    results_df[\"N Materialized Fields\"],\n",
    "    results_df[\"Write Time\"],\n",
    "    \"Write time / N mat fields\",\n",
    "    \"N mat fields\",\n",
    "    \"Mat time\"\n",
    ")"
   ]
  },
  {
   "cell_type": "code",
   "execution_count": null,
   "metadata": {},
   "outputs": [],
   "source": [
    "fig, ax = plot_scatter(\n",
    "    results_df[\"N Materialized Fields\"],\n",
    "    results_df[\"DB Size\"].apply(lambda x: x[2]),\n",
    "    \"DB Size / N mat fields\", \n",
    "    \"N mat fields\",\n",
    "    \"DB Size (bytes)\"\n",
    ")"
   ]
  }
 ],
 "metadata": {
  "kernelspec": {
   "display_name": "venv",
   "language": "python",
   "name": "python3"
  },
  "language_info": {
   "codemirror_mode": {
    "name": "ipython",
    "version": 3
   },
   "file_extension": ".py",
   "mimetype": "text/x-python",
   "name": "python",
   "nbconvert_exporter": "python",
   "pygments_lexer": "ipython3",
   "version": "3.12.0"
  }
 },
 "nbformat": 4,
 "nbformat_minor": 2
}
