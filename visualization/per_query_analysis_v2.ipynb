{
 "cells": [
  {
   "cell_type": "code",
   "execution_count": 7,
   "metadata": {},
   "outputs": [],
   "source": [
    "import pandas as pd\n",
    "import numpy as np\n",
    "\n",
    "import os\n",
    "import sys\n",
    "module_path = os.path.abspath(os.path.join('..'))\n",
    "if module_path not in sys.path:\n",
    "    sys.path.append(module_path)\n",
    "\n",
    "\n",
    "import testing.tpch.setup as tpch_setup"
   ]
  },
  {
   "cell_type": "code",
   "execution_count": null,
   "metadata": {},
   "outputs": [],
   "source": [
    "# Small dataset, 500 queries - m1, m2, m3 ...\n",
    "RESULTS_PATH = f\"{os.path.curdir}/results/load-based-N-fields/tpch/2025-03-26-15H/\"\n",
    "\n",
    "results_df = pd.read_csv(RESULTS_PATH + \"meta_results.csv\")\n",
    "results_df = results_df[[\"Test\", \"Load\", \"Total query time\",\n",
    "                         \"Materialized Columns\", \"Materialization\"]]\n",
    "\n",
    "results_df.head(50)\n",
    "\n"
   ]
  },
  {
   "cell_type": "code",
   "execution_count": 31,
   "metadata": {},
   "outputs": [],
   "source": [
    "\n"
   ]
  },
  {
   "cell_type": "code",
   "execution_count": null,
   "metadata": {},
   "outputs": [],
   "source": [
    "import pandas as pd\n",
    "import random\n",
    "\n",
    "queries = tpch_setup.QUERIES\n",
    "\n",
    "rows = []\n",
    "for _ in range(100):  # Generate 100 rows of dummy data\n",
    "    query_name = random.choice(list(queries.keys()))\n",
    "    query_columns = queries[query_name].columns_used()\n",
    "\n",
    "    new_materialized = random.choice(query_columns)\n",
    "\n",
    "    # Generate previously materialized columns, excluding the new materialized column\n",
    "    possible_prev_columns = [col for col in query_columns if col != new_materialized]\n",
    "    prev_materialized = random.sample(possible_prev_columns, k=min(random.randint(0, 5), len(possible_prev_columns)))\n",
    "\n",
    "    prev_time = round(random.uniform(1, 10), 2)\n",
    "    time_gain = round(random.uniform(0.1, prev_time), 2)\n",
    "    time = round(prev_time - time_gain, 2)\n",
    "\n",
    "    rows.append({\n",
    "        'Query': query_name,\n",
    "        'Materialized Column': new_materialized,\n",
    "        'Previously Materialized Columns': prev_materialized,\n",
    "        'Time gain': time_gain,\n",
    "        'Time': time,\n",
    "        'Prev time': prev_time\n",
    "    })\n",
    "\n",
    "# Create the DataFrame\n",
    "df = pd.DataFrame(rows)\n",
    "\n",
    "# Display the first few rows of the DataFrame\n",
    "df.head(20)"
   ]
  },
  {
   "cell_type": "code",
   "execution_count": null,
   "metadata": {},
   "outputs": [],
   "source": [
    "# Sort by query and time gain, then add rank within each query group\n",
    "df['Rank'] = df.groupby('Query')['Time gain'].rank(ascending=False).astype(int)\n",
    "\n",
    "# Calculate percentage rank within each query group (0-100%)\n",
    "df['Percentile'] = df.groupby('Query')['Time gain'].rank(pct=True).round(2)\n",
    "\n",
    "df.sort_values(['Query', 'Time gain'], ascending=[True, False])\n"
   ]
  },
  {
   "cell_type": "code",
   "execution_count": 11,
   "metadata": {},
   "outputs": [],
   "source": [
    "def get_field_frequency_for_query(query_name, materialized_column):\n",
    "    q = queries[query_name]\n",
    "    cols = q.columns_used()\n",
    "    return cols.count(materialized_column)\n",
    "\n",
    "def get_field_join_frequency_for_query(query_name, materialized_column):\n",
    "    q = queries[query_name]\n",
    "    cols = q.columns_used_in_join()\n",
    "    if materialized_column in cols:\n",
    "        return len(cols[materialized_column])\n",
    "    else:\n",
    "        return 0\n",
    "\n",
    "def get_field_where_frequency_for_query(query_name, materialized_column):\n",
    "    q = queries[query_name]\n",
    "    cols = q.columns_used_with_position()[\"where\"]\n",
    "    return cols.count(materialized_column)\n",
    "\n",
    "def get_field_select_frequency_for_query(query_name, materialized_column):\n",
    "    q = queries[query_name]\n",
    "    cols = q.columns_used_with_position()[\"select\"]\n",
    "    return cols.count(materialized_column)\n",
    "\n",
    "\n",
    "\n",
    "queries = tpch_setup.QUERIES\n",
    "\n",
    "df[\"Total Frequency\"] = df.apply(\n",
    "    lambda row: get_field_frequency_for_query(row[\"Query\"], row[\"Materialized Column\"]), axis=1\n",
    ")\n",
    "\n",
    "df[\"Join Frequency\"] = df.apply(\n",
    "    lambda row: get_field_join_frequency_for_query(row[\"Query\"], row[\"Materialized Column\"]), axis=1\n",
    ")\n",
    "\n",
    "df[\"Where Frequency\"] = df.apply(\n",
    "    lambda row: get_field_where_frequency_for_query(row[\"Query\"], row[\"Materialized Column\"]), axis=1\n",
    ")\n",
    "\n",
    "df[\"Select Frequency\"] = df.apply(\n",
    "    lambda row: get_field_select_frequency_for_query(row[\"Query\"], row[\"Materialized Column\"]), axis=1\n",
    ")"
   ]
  },
  {
   "cell_type": "code",
   "execution_count": null,
   "metadata": {},
   "outputs": [],
   "source": []
  }
 ],
 "metadata": {
  "kernelspec": {
   "display_name": "venv",
   "language": "python",
   "name": "python3"
  },
  "language_info": {
   "codemirror_mode": {
    "name": "ipython",
    "version": 3
   },
   "file_extension": ".py",
   "mimetype": "text/x-python",
   "name": "python",
   "nbconvert_exporter": "python",
   "pygments_lexer": "ipython3",
   "version": "3.12.0"
  }
 },
 "nbformat": 4,
 "nbformat_minor": 2
}
