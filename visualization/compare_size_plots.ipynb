{
 "cells": [
  {
   "cell_type": "code",
   "execution_count": null,
   "metadata": {},
   "outputs": [],
   "source": [
    "import pandas as pd\n",
    "import matplotlib.pyplot as plt\n",
    "\n",
    "RESULTS_PATH = \"../results/verify-datasize-irrelevance/tpch/2025-03-20-11H/\"\n",
    "\n",
    "# Read the CSV file\n",
    "df = pd.read_csv(RESULTS_PATH + 'meta_data.csv')\n",
    "df['Scale_factor'] = pd.to_numeric(df['Scale_factor'])\n",
    "\n",
    "# Create a new column with the normalized query time.\n",
    "# For each row, the total query time is divided by (Scale_factor * 10)\n",
    "df['normalized_time_by_size'] = df.apply(lambda row: row['Avg (last 4 runs)'] / (row['Scale_factor'] * 10), axis=1)\n",
    "\n",
    "# Get unique queries to loop over\n",
    "queries = df['Query'].unique()\n",
    "\n",
    "for query in queries:\n",
    "    # Filter data for the current query\n",
    "    df_query = df[df['Query'] == query]\n",
    "    \n",
    "    plt.figure(figsize=(8, 6))\n",
    "    \n",
    "    # Get unique parameters and assign each a color from a colormap\n",
    "    params = df_query['Param'].unique()\n",
    "    cmap = plt.cm.get_cmap(\"Accent\", len(params))\n",
    "    \n",
    "    for i, param in enumerate(params):\n",
    "        # Filter data for the current parameter\n",
    "        df_param = df_query[df_query['Param'] == param]\n",
    "        replicates = df_param['Replicate'].unique()\n",
    "        \n",
    "        for j, rep in enumerate(replicates):\n",
    "            # Filter data for the current replicate and sort by Scale_factor\n",
    "            df_rep = df_param[df_param['Replicate'] == rep].copy().sort_values(by='Scale_factor')\n",
    "            \n",
    "            # Label only the first replicate for the legend\n",
    "            if j == 0:\n",
    "                plt.plot(df_rep['Scale_factor'], df_rep['normalized_time_by_size'], marker='o',\n",
    "                         label=str(param), color=cmap(i))\n",
    "            else:\n",
    "                plt.plot(df_rep['Scale_factor'], df_rep['normalized_time_by_size'], marker='o',\n",
    "                         color=cmap(i))\n",
    "    \n",
    "    plt.xticks(sorted(df_query['Scale_factor'].unique()))\n",
    "\n",
    "    plt.title(f'Query {query} (Absolute Query Time Normalized by Size)')\n",
    "    plt.xlabel('Size')\n",
    "    plt.ylabel('Normalized Query Time (0.1/1, 0.5/5, 1/10)')\n",
    "    plt.legend(title='Param')\n",
    "    plt.grid(True)\n",
    "    plt.show()\n"
   ]
  },
  {
   "cell_type": "code",
   "execution_count": null,
   "metadata": {},
   "outputs": [],
   "source": []
  }
 ],
 "metadata": {
  "kernelspec": {
   "display_name": "venv",
   "language": "python",
   "name": "python3"
  },
  "language_info": {
   "codemirror_mode": {
    "name": "ipython",
    "version": 3
   },
   "file_extension": ".py",
   "mimetype": "text/x-python",
   "name": "python",
   "nbconvert_exporter": "python",
   "pygments_lexer": "ipython3",
   "version": "3.12.0"
  }
 },
 "nbformat": 4,
 "nbformat_minor": 2
}
