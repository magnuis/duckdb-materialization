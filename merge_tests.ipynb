{
 "cells": [
  {
   "cell_type": "code",
   "execution_count": null,
   "id": "79989958",
   "metadata": {},
   "outputs": [],
   "source": [
    "import pandas as pd\n",
    "import os\n",
    "\n",
    "base_path = os.curdir + \"/results/load-based-N-fields/tpch/\"\n",
    "main_results_path = base_path + \"2025-03-26-15H/\"\n",
    "new_results_path = base_path + \"2025-05-07-20H/\"\n",
    "write_path = base_path + \"2025-03-26-15H-UPDATED/\"\n",
    "if not os.path.isdir(write_path):\n",
    "    os.mkdir(write_path, )"
   ]
  },
  {
   "cell_type": "code",
   "execution_count": null,
   "id": "7dbf5334",
   "metadata": {},
   "outputs": [],
   "source": [
    "# Append to meta_results file\n",
    "main_df = pd.read_csv(main_results_path + \"meta_results.csv\")\n",
    "new_df = pd.read_csv(new_results_path + \"meta_results.csv\")\n",
    "\n",
    "\n",
    "if \"Unnamed: 0\" in main_df.columns:\n",
    "    main_df.drop([\"Unnamed: 0\"], inplace=True, axis=1)\n",
    "main_df = pd.concat([main_df, new_df])\n",
    "main_df.sort_values([\"Load\", \"Treshold\", \"Materialized Columns\"], inplace=True)\n",
    "main_df.reset_index(inplace=True)\n",
    "main_df.to_csv(write_path + \"meta_results.csv\", index=False)"
   ]
  },
  {
   "cell_type": "code",
   "execution_count": null,
   "id": "f342166f",
   "metadata": {},
   "outputs": [],
   "source": [
    "# Update each test result file\n",
    "for load_no in range(10):\n",
    "    main_load_df = pd.read_csv(main_results_path + f\"q4_m400_l{load_no}.csv\")\n",
    "    new_load_df = pd.read_csv(new_results_path + f\"q4_m400_l{load_no}.csv\")\n",
    "\n",
    "    main_load_df.drop('q', axis=1, inplace=True)\n",
    "\n",
    "    if \"Unnamed: 0\" in main_load_df.columns:\n",
    "        main_load_df.drop([\"Unnamed: 0\"], inplace=True, axis=1)\n",
    "    if \"Unnamed: 0\" in new_load_df.columns:\n",
    "        new_load_df.drop([\"Unnamed: 0\"], inplace=True, axis=1)\n",
    "    i = 0\n",
    "    print(f\"Length of new: {len(new_load_df)}\")\n",
    "    print(f\"Length of main: {len(main_load_df)}\")\n",
    "    for l, r in zip(main_load_df.itertuples(), new_load_df.itertuples()):\n",
    "\n",
    "        if l[0] != r[0]:\n",
    "            print(f\"[load{load_no}, i{i}] l: {l[0]}, r: {r[0]}\")\n",
    "\n",
    "            assert False\n",
    "        i += 1\n",
    "\n",
    "\n",
    "    new_load_df = pd.concat([new_load_df, main_load_df],axis=1)\n",
    "    new_load_df.to_csv(write_path + f\"q4_m400_l{load_no}.csv\", index=False)\n",
    "\n",
    "new_load_df.tail()"
   ]
  }
 ],
 "metadata": {
  "kernelspec": {
   "display_name": "venv",
   "language": "python",
   "name": "python3"
  },
  "language_info": {
   "codemirror_mode": {
    "name": "ipython",
    "version": 3
   },
   "file_extension": ".py",
   "mimetype": "text/x-python",
   "name": "python",
   "nbconvert_exporter": "python",
   "pygments_lexer": "ipython3",
   "version": "3.12.3"
  }
 },
 "nbformat": 4,
 "nbformat_minor": 5
}
