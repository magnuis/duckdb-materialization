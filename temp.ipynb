{
 "cells": [
  {
   "cell_type": "code",
   "execution_count": 4,
   "metadata": {},
   "outputs": [],
   "source": [
    "import pandas as pd\n",
    "# Small dataset, 500 queries - m1, m2, m3 ...\n",
    "RESULTS_PATH = \"./INVALIDresults/load-based-N-fields/tpch/2025-03-17-8H\"\n",
    "\n",
    "\n",
    "# Read the CSV file\n",
    "meta_results = pd.read_csv(RESULTS_PATH + \"/q4|m400|l9.csv\")"
   ]
  },
  {
   "cell_type": "code",
   "execution_count": 6,
   "metadata": {},
   "outputs": [
    {
     "data": {
      "text/html": [
       "<div>\n",
       "<style scoped>\n",
       "    .dataframe tbody tr th:only-of-type {\n",
       "        vertical-align: middle;\n",
       "    }\n",
       "\n",
       "    .dataframe tbody tr th {\n",
       "        vertical-align: top;\n",
       "    }\n",
       "\n",
       "    .dataframe thead th {\n",
       "        text-align: right;\n",
       "    }\n",
       "</style>\n",
       "<table border=\"1\" class=\"dataframe\">\n",
       "  <thead>\n",
       "    <tr style=\"text-align: right;\">\n",
       "      <th></th>\n",
       "      <th>schema_based_materialization</th>\n",
       "      <th>load_based_m1</th>\n",
       "    </tr>\n",
       "  </thead>\n",
       "  <tbody>\n",
       "    <tr>\n",
       "      <th>3</th>\n",
       "      <td>4.625624</td>\n",
       "      <td>0.128731</td>\n",
       "    </tr>\n",
       "    <tr>\n",
       "      <th>5</th>\n",
       "      <td>4.624066</td>\n",
       "      <td>0.147827</td>\n",
       "    </tr>\n",
       "    <tr>\n",
       "      <th>6</th>\n",
       "      <td>4.632090</td>\n",
       "      <td>0.122243</td>\n",
       "    </tr>\n",
       "    <tr>\n",
       "      <th>8</th>\n",
       "      <td>4.600466</td>\n",
       "      <td>0.130705</td>\n",
       "    </tr>\n",
       "    <tr>\n",
       "      <th>10</th>\n",
       "      <td>4.633052</td>\n",
       "      <td>0.122590</td>\n",
       "    </tr>\n",
       "    <tr>\n",
       "      <th>...</th>\n",
       "      <td>...</td>\n",
       "      <td>...</td>\n",
       "    </tr>\n",
       "    <tr>\n",
       "      <th>483</th>\n",
       "      <td>4.595350</td>\n",
       "      <td>0.109401</td>\n",
       "    </tr>\n",
       "    <tr>\n",
       "      <th>484</th>\n",
       "      <td>4.599626</td>\n",
       "      <td>0.121445</td>\n",
       "    </tr>\n",
       "    <tr>\n",
       "      <th>489</th>\n",
       "      <td>4.607597</td>\n",
       "      <td>0.119886</td>\n",
       "    </tr>\n",
       "    <tr>\n",
       "      <th>490</th>\n",
       "      <td>4.618676</td>\n",
       "      <td>0.119213</td>\n",
       "    </tr>\n",
       "    <tr>\n",
       "      <th>494</th>\n",
       "      <td>4.594181</td>\n",
       "      <td>0.118483</td>\n",
       "    </tr>\n",
       "  </tbody>\n",
       "</table>\n",
       "<p>122 rows × 2 columns</p>\n",
       "</div>"
      ],
      "text/plain": [
       "     schema_based_materialization  load_based_m1\n",
       "3                        4.625624       0.128731\n",
       "5                        4.624066       0.147827\n",
       "6                        4.632090       0.122243\n",
       "8                        4.600466       0.130705\n",
       "10                       4.633052       0.122590\n",
       "..                            ...            ...\n",
       "483                      4.595350       0.109401\n",
       "484                      4.599626       0.121445\n",
       "489                      4.607597       0.119886\n",
       "490                      4.618676       0.119213\n",
       "494                      4.594181       0.118483\n",
       "\n",
       "[122 rows x 2 columns]"
      ]
     },
     "execution_count": 6,
     "metadata": {},
     "output_type": "execute_result"
    }
   ],
   "source": [
    "meta_results_q15 = meta_results[meta_results[\"q\"]==\"q15\"][[\"schema_based_materialization\", \"load_based_m1\"]]\n",
    "meta_results_q15"
   ]
  },
  {
   "cell_type": "code",
   "execution_count": 11,
   "metadata": {},
   "outputs": [
    {
     "name": "stdout",
     "output_type": "stream",
     "text": [
      "mean: 4.607724717688545\n",
      "min: 4.562308218002727\n",
      "max: 4.65323945399723\n"
     ]
    }
   ],
   "source": [
    "print(f\"mean: {meta_results_q15['schema_based_materialization'].mean()}\")\n",
    "print(f\"min: {meta_results_q15['schema_based_materialization'].min()}\")\n",
    "print(f\"max: {meta_results_q15['schema_based_materialization'].max()}\")"
   ]
  },
  {
   "cell_type": "code",
   "execution_count": 12,
   "metadata": {},
   "outputs": [
    {
     "name": "stdout",
     "output_type": "stream",
     "text": [
      "mean: 0.1174135145082517\n",
      "min: 0.0948593619978055\n",
      "max: 0.1478268179998849\n"
     ]
    }
   ],
   "source": [
    "print(f\"mean: {meta_results_q15['load_based_m1'].mean()}\")\n",
    "print(f\"min: {meta_results_q15['load_based_m1'].min()}\")\n",
    "print(f\"max: {meta_results_q15['load_based_m1'].max()}\")"
   ]
  },
  {
   "cell_type": "code",
   "execution_count": 9,
   "metadata": {},
   "outputs": [
    {
     "data": {
      "text/plain": [
       "122"
      ]
     },
     "execution_count": 9,
     "metadata": {},
     "output_type": "execute_result"
    }
   ],
   "source": [
    "len(meta_results_q15)"
   ]
  }
 ],
 "metadata": {
  "kernelspec": {
   "display_name": "venv",
   "language": "python",
   "name": "python3"
  },
  "language_info": {
   "codemirror_mode": {
    "name": "ipython",
    "version": 3
   },
   "file_extension": ".py",
   "mimetype": "text/x-python",
   "name": "python",
   "nbconvert_exporter": "python",
   "pygments_lexer": "ipython3",
   "version": "3.10.12"
  }
 },
 "nbformat": 4,
 "nbformat_minor": 2
}
